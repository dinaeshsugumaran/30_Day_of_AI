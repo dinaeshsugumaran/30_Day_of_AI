{
 "cells": [
  {
   "cell_type": "code",
   "execution_count": null,
   "id": "2b8780c0",
   "metadata": {},
   "outputs": [
    {
     "name": "stderr",
     "output_type": "stream",
     "text": [
      "WARNING:absl:Variant folder /Users/dinaeshs/tensorflow_datasets/iris/2.1.0 has no dataset_info.json\n",
      "/Users/dinaeshs/Desktop/30_Day_of_AI/30dayai/lib/python3.13/site-packages/tqdm/auto.py:21: TqdmWarning: IProgress not found. Please update jupyter and ipywidgets. See https://ipywidgets.readthedocs.io/en/stable/user_install.html\n",
      "  from .autonotebook import tqdm as notebook_tqdm\n"
     ]
    },
    {
     "name": "stdout",
     "output_type": "stream",
     "text": [
      "\u001b[1mDownloading and preparing dataset Unknown size (download: Unknown size, generated: Unknown size, total: Unknown size) to /Users/dinaeshs/tensorflow_datasets/iris/2.1.0...\u001b[0m\n"
     ]
    },
    {
     "name": "stderr",
     "output_type": "stream",
     "text": [
      "Dl Completed...: 0 url [00:00, ? url/s]\n",
      "Dl Completed...:   0%|          | 0/1 [00:00<?, ? url/s]\n",
      "Dl Completed...:   0%|          | 0/1 [00:00<?, ? url/s]\n",
      "Dl Completed...: 100%|██████████| 1/1 [00:00<00:00,  1.08 url/s]\n",
      "Dl Completed...: 100%|██████████| 1/1 [00:19<00:00, 19.80s/ url]\n",
      "Dl Completed...: 100%|██████████| 1/1 [00:19<00:00, 19.80s/ url]\n",
      "Dl Completed...: 100%|██████████| 1/1 [00:19<00:00, 19.81s/ url]\n",
      "Dl Completed...: 100%|██████████| 1/1 [00:19<00:00, 19.81s/ url]\n",
      "\u001b[A\n",
      "Dl Completed...: 100%|██████████| 1/1 [00:19<00:00, 19.81s/ url]\n",
      "Dl Completed...: 100%|██████████| 1/1 [00:19<00:00, 19.81s/ url]\n",
      "Dl Completed...: 100%|██████████| 1/1 [00:19<00:00, 19.81s/ url]\n",
      "Dl Completed...: 100%|██████████| 1/1 [00:19<00:00, 19.81s/ url]\n",
      "Extraction completed...: 100%|██████████| 4/4 [00:19<00:00,  4.95s/ file]\n",
      "Dl Size...: 0 MiB [00:19, ? MiB/s]\n",
      "Dl Completed...: 100%|██████████| 1/1 [00:19<00:00, 19.81s/ url]\n",
      "                                                                "
     ]
    },
    {
     "name": "stdout",
     "output_type": "stream",
     "text": [
      "\u001b[1mDataset iris downloaded and prepared to /Users/dinaeshs/tensorflow_datasets/iris/2.1.0. Subsequent calls will reuse this data.\u001b[0m\n",
      "<class 'tensorflow.python.framework.ops.EagerTensor'>\n",
      "tf.Tensor([5.1 3.4 1.5 0.2], shape=(4,), dtype=float32)\n",
      "<class 'tensorflow.python.framework.ops.EagerTensor'>\n",
      "tf.Tensor(0, shape=(), dtype=int64)\n"
     ]
    },
    {
     "name": "stderr",
     "output_type": "stream",
     "text": [
      "2025-08-15 19:37:39.530400: I tensorflow/core/kernels/data/tf_record_dataset_op.cc:396] The default buffer size is 262144, which is overridden by the user specified `buffer_size` of 8388608\n",
      "2025-08-15 19:37:39.531753: W tensorflow/core/kernels/data/cache_dataset_ops.cc:917] The calling iterator did not fully read the dataset being cached. In order to avoid unexpected truncation of the dataset, the partially cached contents of the dataset  will be discarded. This can happen if you have an input pipeline similar to `dataset.cache().take(k).repeat()`. You should use `dataset.take(k).cache().repeat()` instead.\n",
      "2025-08-15 19:37:39.532756: I tensorflow/core/framework/local_rendezvous.cc:407] Local rendezvous is aborting with status: OUT_OF_RANGE: End of sequence\n"
     ]
    }
   ],
   "source": [
    "import tensorflow_datasets as tfds\n",
    "\n",
    "# Load iris dataset\n",
    "iris = tfds.load('iris', as_supervised=True)\n",
    "\n",
    "# Take one example\n",
    "for features, label in iris['train'].take(1):\n",
    "    print(type(features))  # <class 'tensorflow.python.framework.ops.EagerTensor'>\n",
    "    print(features)\n",
    "    print(type(label))     # <class 'tensorflow.python.framework.ops.EagerTensor'>\n",
    "    print(label)"
   ]
  },
  {
   "cell_type": "code",
   "execution_count": 3,
   "id": "30e58d69",
   "metadata": {},
   "outputs": [
    {
     "name": "stdout",
     "output_type": "stream",
     "text": [
      "<class 'dict'>\n"
     ]
    }
   ],
   "source": [
    "print(type(iris))"
   ]
  },
  {
   "cell_type": "code",
   "execution_count": 1,
   "id": "c581827d",
   "metadata": {},
   "outputs": [
    {
     "ename": "",
     "evalue": "",
     "output_type": "error",
     "traceback": [
      "\u001b[1;31mThe Kernel crashed while executing code in the current cell or a previous cell. \n",
      "\u001b[1;31mPlease review the code in the cell(s) to identify a possible cause of the failure. \n",
      "\u001b[1;31mClick <a href='https://aka.ms/vscodeJupyterKernelCrash'>here</a> for more info. \n",
      "\u001b[1;31mView Jupyter <a href='command:jupyter.viewOutput'>log</a> for further details."
     ]
    }
   ],
   "source": [
    "import tensorflow as tf\n",
    "from tensorflow.keras import layers, models\n"
   ]
  },
  {
   "cell_type": "markdown",
   "id": "f35581ed",
   "metadata": {},
   "source": [
    "Importing TensorFlow and its Keras submodules.\n",
    "\n",
    "layers → lets you create neural network layers like Dense.\n",
    "\n",
    "models → allows building models, like Sequential or Model."
   ]
  },
  {
   "cell_type": "code",
   "execution_count": 5,
   "id": "bbe8b53c",
   "metadata": {},
   "outputs": [
    {
     "name": "stderr",
     "output_type": "stream",
     "text": [
      "/Users/dinaeshs/Desktop/30_Day_of_AI/30dayai/lib/python3.13/site-packages/keras/src/layers/core/dense.py:92: UserWarning: Do not pass an `input_shape`/`input_dim` argument to a layer. When using Sequential models, prefer using an `Input(shape)` object as the first layer in the model instead.\n",
      "  super().__init__(activity_regularizer=activity_regularizer, **kwargs)\n"
     ]
    }
   ],
   "source": [
    "model = models.Sequential([\n",
    "    layers.Dense(8, activation='relu', input_shape=(4,)),  # input has 4 features\n",
    "    layers.Dense(3, activation='softmax')                  # output 3 classes (for Iris)\n",
    "])\n"
   ]
  },
  {
   "cell_type": "markdown",
   "id": "22b5b888",
   "metadata": {},
   "source": [
    "Sequential → builds a model as a stack of layers in order.\n",
    "\n",
    "First layer: Dense(8, activation='relu', input_shape=(4,))\n",
    "\n",
    "Dense(8) → fully connected layer with 8 neurons.\n",
    "\n",
    "activation='relu' → applies the ReLU activation to introduce non-linearity.\n",
    "\n",
    "input_shape=(4,) → expects input vectors of size 4 (Iris dataset has 4 features).\n",
    "\n",
    "Second layer: Dense(3, activation='softmax')\n",
    "\n",
    "Dense(3) → output layer with 3 neurons (for 3 Iris classes).\n",
    "\n",
    "activation='softmax' → converts outputs into probabilities that sum to 1."
   ]
  },
  {
   "cell_type": "code",
   "execution_count": 6,
   "id": "d319af83",
   "metadata": {},
   "outputs": [],
   "source": [
    "model.compile(optimizer='adam',\n",
    "              loss='sparse_categorical_crossentropy',\n",
    "              metrics=['accuracy'])\n"
   ]
  },
  {
   "cell_type": "markdown",
   "id": "1b66adb7",
   "metadata": {},
   "source": [
    "optimizer='adam' → chooses the Adam optimizer, which adjusts weights to minimize loss.\n",
    "\n",
    "loss='sparse_categorical_crossentropy' → suitable for multi-class classification when labels are integers (0,1,2).\n",
    "\n",
    "metrics=['accuracy'] → track accuracy during training."
   ]
  },
  {
   "cell_type": "code",
   "execution_count": 7,
   "id": "45290e11",
   "metadata": {},
   "outputs": [
    {
     "data": {
      "text/html": [
       "<pre style=\"white-space:pre;overflow-x:auto;line-height:normal;font-family:Menlo,'DejaVu Sans Mono',consolas,'Courier New',monospace\"><span style=\"font-weight: bold\">Model: \"sequential\"</span>\n",
       "</pre>\n"
      ],
      "text/plain": [
       "\u001b[1mModel: \"sequential\"\u001b[0m\n"
      ]
     },
     "metadata": {},
     "output_type": "display_data"
    },
    {
     "data": {
      "text/html": [
       "<pre style=\"white-space:pre;overflow-x:auto;line-height:normal;font-family:Menlo,'DejaVu Sans Mono',consolas,'Courier New',monospace\">┏━━━━━━━━━━━━━━━━━━━━━━━━━━━━━━━━━┳━━━━━━━━━━━━━━━━━━━━━━━━┳━━━━━━━━━━━━━━━┓\n",
       "┃<span style=\"font-weight: bold\"> Layer (type)                    </span>┃<span style=\"font-weight: bold\"> Output Shape           </span>┃<span style=\"font-weight: bold\">       Param # </span>┃\n",
       "┡━━━━━━━━━━━━━━━━━━━━━━━━━━━━━━━━━╇━━━━━━━━━━━━━━━━━━━━━━━━╇━━━━━━━━━━━━━━━┩\n",
       "│ dense (<span style=\"color: #0087ff; text-decoration-color: #0087ff\">Dense</span>)                   │ (<span style=\"color: #00d7ff; text-decoration-color: #00d7ff\">None</span>, <span style=\"color: #00af00; text-decoration-color: #00af00\">8</span>)              │            <span style=\"color: #00af00; text-decoration-color: #00af00\">40</span> │\n",
       "├─────────────────────────────────┼────────────────────────┼───────────────┤\n",
       "│ dense_1 (<span style=\"color: #0087ff; text-decoration-color: #0087ff\">Dense</span>)                 │ (<span style=\"color: #00d7ff; text-decoration-color: #00d7ff\">None</span>, <span style=\"color: #00af00; text-decoration-color: #00af00\">3</span>)              │            <span style=\"color: #00af00; text-decoration-color: #00af00\">27</span> │\n",
       "└─────────────────────────────────┴────────────────────────┴───────────────┘\n",
       "</pre>\n"
      ],
      "text/plain": [
       "┏━━━━━━━━━━━━━━━━━━━━━━━━━━━━━━━━━┳━━━━━━━━━━━━━━━━━━━━━━━━┳━━━━━━━━━━━━━━━┓\n",
       "┃\u001b[1m \u001b[0m\u001b[1mLayer (type)                   \u001b[0m\u001b[1m \u001b[0m┃\u001b[1m \u001b[0m\u001b[1mOutput Shape          \u001b[0m\u001b[1m \u001b[0m┃\u001b[1m \u001b[0m\u001b[1m      Param #\u001b[0m\u001b[1m \u001b[0m┃\n",
       "┡━━━━━━━━━━━━━━━━━━━━━━━━━━━━━━━━━╇━━━━━━━━━━━━━━━━━━━━━━━━╇━━━━━━━━━━━━━━━┩\n",
       "│ dense (\u001b[38;5;33mDense\u001b[0m)                   │ (\u001b[38;5;45mNone\u001b[0m, \u001b[38;5;34m8\u001b[0m)              │            \u001b[38;5;34m40\u001b[0m │\n",
       "├─────────────────────────────────┼────────────────────────┼───────────────┤\n",
       "│ dense_1 (\u001b[38;5;33mDense\u001b[0m)                 │ (\u001b[38;5;45mNone\u001b[0m, \u001b[38;5;34m3\u001b[0m)              │            \u001b[38;5;34m27\u001b[0m │\n",
       "└─────────────────────────────────┴────────────────────────┴───────────────┘\n"
      ]
     },
     "metadata": {},
     "output_type": "display_data"
    },
    {
     "data": {
      "text/html": [
       "<pre style=\"white-space:pre;overflow-x:auto;line-height:normal;font-family:Menlo,'DejaVu Sans Mono',consolas,'Courier New',monospace\"><span style=\"font-weight: bold\"> Total params: </span><span style=\"color: #00af00; text-decoration-color: #00af00\">67</span> (268.00 B)\n",
       "</pre>\n"
      ],
      "text/plain": [
       "\u001b[1m Total params: \u001b[0m\u001b[38;5;34m67\u001b[0m (268.00 B)\n"
      ]
     },
     "metadata": {},
     "output_type": "display_data"
    },
    {
     "data": {
      "text/html": [
       "<pre style=\"white-space:pre;overflow-x:auto;line-height:normal;font-family:Menlo,'DejaVu Sans Mono',consolas,'Courier New',monospace\"><span style=\"font-weight: bold\"> Trainable params: </span><span style=\"color: #00af00; text-decoration-color: #00af00\">67</span> (268.00 B)\n",
       "</pre>\n"
      ],
      "text/plain": [
       "\u001b[1m Trainable params: \u001b[0m\u001b[38;5;34m67\u001b[0m (268.00 B)\n"
      ]
     },
     "metadata": {},
     "output_type": "display_data"
    },
    {
     "data": {
      "text/html": [
       "<pre style=\"white-space:pre;overflow-x:auto;line-height:normal;font-family:Menlo,'DejaVu Sans Mono',consolas,'Courier New',monospace\"><span style=\"font-weight: bold\"> Non-trainable params: </span><span style=\"color: #00af00; text-decoration-color: #00af00\">0</span> (0.00 B)\n",
       "</pre>\n"
      ],
      "text/plain": [
       "\u001b[1m Non-trainable params: \u001b[0m\u001b[38;5;34m0\u001b[0m (0.00 B)\n"
      ]
     },
     "metadata": {},
     "output_type": "display_data"
    }
   ],
   "source": [
    "model.summary()\n"
   ]
  },
  {
   "cell_type": "markdown",
   "id": "94780aa3",
   "metadata": {},
   "source": [
    "Your model is a Sequential model, meaning layers are stacked one after another.\n",
    "\n",
    "Columns:\n",
    "\n",
    "Layer (type) → the name of the layer and its type (Dense).\n",
    "\n",
    "Output Shape → shape of the output tensor from that layer.\n",
    "\n",
    "Param # → number of trainable parameters (weights + biases) in that layer.\n",
    "\n",
    "first layer --\n",
    "\n",
    "dense → first dense (fully connected) layer.\n",
    "\n",
    "(None, 8) → output shape: 8 neurons; None is the batch size, which can vary.\n",
    "\n",
    "Param # = 40 → calculated as:\n",
    "\n",
    "Params=(input features×neurons)+biases= (4×8)+8=32+8=40\n",
    "\n",
    "\n",
    "second layer :\n",
    "\n",
    "dense_1 → output layer with 3 neurons (for 3 classes).\n",
    "\n",
    "(None, 3) → 3 outputs per input sample.\n",
    "\n",
    "Param # = 27 → calculated as:\n",
    "\n",
    "Params=(inputs from previous layer×neurons)+biases=(8×3)+3=24+3=27"
   ]
  },
  {
   "cell_type": "code",
   "execution_count": 8,
   "id": "a75daf1f",
   "metadata": {},
   "outputs": [
    {
     "name": "stdout",
     "output_type": "stream",
     "text": [
      "\u001b[1m1/1\u001b[0m \u001b[32m━━━━━━━━━━━━━━━━━━━━\u001b[0m\u001b[37m\u001b[0m \u001b[1m0s\u001b[0m 65ms/step\n",
      "[[3.8690129e-01 2.3966043e-03 6.1070210e-01]\n",
      " [1.8467812e-01 1.4609456e-05 8.1530720e-01]\n",
      " [2.0749594e-01 3.7318845e-05 7.9246676e-01]]\n",
      "[2 2 2]\n"
     ]
    }
   ],
   "source": [
    "import numpy as np\n",
    "\n",
    "# Example input: first 5 samples from Iris\n",
    "X_new = np.array([[5.1, 3.5, 1.4, 0.2],\n",
    "                  [6.2, 3.4, 5.4, 2.3],\n",
    "                  [5.9, 3.0, 5.1, 1.8]])\n",
    "\n",
    "# Get model predictions (probabilities)\n",
    "pred_probs = model.predict(X_new)\n",
    "print(pred_probs)\n",
    "\n",
    "# Get predicted class labels\n",
    "pred_classes = np.argmax(pred_probs, axis=1)\n",
    "print(pred_classes)\n"
   ]
  }
 ],
 "metadata": {
  "kernelspec": {
   "display_name": "30dayai",
   "language": "python",
   "name": "python3"
  },
  "language_info": {
   "codemirror_mode": {
    "name": "ipython",
    "version": 3
   },
   "file_extension": ".py",
   "mimetype": "text/x-python",
   "name": "python",
   "nbconvert_exporter": "python",
   "pygments_lexer": "ipython3",
   "version": "3.13.5"
  }
 },
 "nbformat": 4,
 "nbformat_minor": 5
}
