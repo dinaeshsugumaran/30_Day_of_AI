{
 "cells": [
  {
   "cell_type": "code",
   "execution_count": 2,
   "id": "e4fa3ec8",
   "metadata": {},
   "outputs": [
    {
     "name": "stdout",
     "output_type": "stream",
     "text": [
      "One-hot:\n",
      " <Compressed Sparse Row sparse matrix of dtype 'float64'\n",
      "\twith 4 stored elements and shape (4, 3)>\n",
      "  Coords\tValues\n",
      "  (0, 0)\t1.0\n",
      "  (1, 1)\t1.0\n",
      "  (2, 0)\t1.0\n",
      "  (3, 2)\t1.0\n",
      "Ordinal:\n",
      " [[0.]\n",
      " [1.]\n",
      " [0.]\n",
      " [2.]]\n"
     ]
    }
   ],
   "source": [
    "from sklearn.preprocessing import OneHotEncoder, OrdinalEncoder\n",
    "import pandas as pd\n",
    "\n",
    "# Example categorical data\n",
    "data = pd.DataFrame({'fruit': ['apple', 'banana', 'apple', 'orange']})\n",
    "\n",
    "# One-hot encoding\n",
    "ohe = OneHotEncoder()\n",
    "onehot = ohe.fit_transform(data[['fruit']])\n",
    "print(\"One-hot:\\n\", onehot)\n",
    "\n",
    "# Ordinal encoding (maps to integers)\n",
    "ord_enc = OrdinalEncoder()\n",
    "ordinal = ord_enc.fit_transform(data[['fruit']])\n",
    "print(\"Ordinal:\\n\", ordinal)\n"
   ]
  },
  {
   "cell_type": "code",
   "execution_count": 3,
   "id": "a76cb0ee",
   "metadata": {},
   "outputs": [
    {
     "name": "stdout",
     "output_type": "stream",
     "text": [
      "Count vectors:\n",
      " [[0 0 1 0 0 1]\n",
      " [0 0 0 0 1 1]\n",
      " [1 1 1 1 1 0]]\n",
      "TF-IDF vectors:\n",
      " [[0.         0.         0.70710678 0.         0.         0.70710678]\n",
      " [0.         0.         0.         0.         0.70710678 0.70710678]\n",
      " [0.49047908 0.49047908 0.37302199 0.49047908 0.37302199 0.        ]]\n"
     ]
    }
   ],
   "source": [
    "from sklearn.feature_extraction.text import CountVectorizer, TfidfVectorizer\n",
    "\n",
    "corpus = [\"I love cats\", \"I love dogs\", \"Cats and dogs are cute\"]\n",
    "\n",
    "# Bag-of-words (count vectorizer)\n",
    "cv = CountVectorizer()\n",
    "X_count = cv.fit_transform(corpus)\n",
    "print(\"Count vectors:\\n\", X_count.toarray())\n",
    "\n",
    "# TF-IDF vectorizer\n",
    "tfidf = TfidfVectorizer()\n",
    "X_tfidf = tfidf.fit_transform(corpus)\n",
    "print(\"TF-IDF vectors:\\n\", X_tfidf.toarray())\n"
   ]
  }
 ],
 "metadata": {
  "kernelspec": {
   "display_name": "30dayai",
   "language": "python",
   "name": "python3"
  },
  "language_info": {
   "codemirror_mode": {
    "name": "ipython",
    "version": 3
   },
   "file_extension": ".py",
   "mimetype": "text/x-python",
   "name": "python",
   "nbconvert_exporter": "python",
   "pygments_lexer": "ipython3",
   "version": "3.13.5"
  }
 },
 "nbformat": 4,
 "nbformat_minor": 5
}
